{
 "cells": [
  {
   "cell_type": "markdown",
   "id": "c6b32882",
   "metadata": {},
   "source": [
    "## Automatic File sorter"
   ]
  },
  {
   "cell_type": "code",
   "execution_count": 34,
   "id": "ab8fb988",
   "metadata": {},
   "outputs": [],
   "source": [
    "import os , shutil"
   ]
  },
  {
   "cell_type": "code",
   "execution_count": 35,
   "id": "73a64a75",
   "metadata": {},
   "outputs": [
    {
     "name": "stdout",
     "output_type": "stream",
     "text": [
      "['excel and csv files', 'Introduction to DAX.pdf', 'pdf files', 'png files', 'rules-A3.pdf', 'visuals-reference-sep2018-A3.pdf']\n"
     ]
    }
   ],
   "source": [
    "path = r\"C:/Users/babak/Desktop/Power BI/\"\n",
    "\n",
    "file_name = os.listdir(path)\n",
    "\n",
    "print(file_name)"
   ]
  },
  {
   "cell_type": "code",
   "execution_count": 37,
   "id": "d880a660",
   "metadata": {},
   "outputs": [],
   "source": [
    "folder_names = ['pdf files' ,'excel and csv files' , 'png files']\n",
    "\n",
    "for loop in range(0,3):\n",
    "    if not os.path.exists(path + folder_names[loop]):\n",
    "          os.makedirs(path+folder_names[loop])\n",
    "\n",
    "            \n",
    "                    \n",
    "for file in file_name:\n",
    "    if '.pdf' in file and not os.path.exists(path + \"pdf files/\" +file):\n",
    "        shutil.move(path + file ,path + \"pdf files/\" +file)\n",
    "    if '.xlsx' in file and not os.path.exists(path + \"excel and csv files/\" +file):\n",
    "        shutil.move(path + file ,path + \"excel and csv files/\" +file)\n",
    "    if '.png' in file and not os.path.exists(path + \"png files/\" +file):\n",
    "        shutil.move(path + file ,path + \"png files/\" +file)\n",
    "        "
   ]
  },
  {
   "cell_type": "code",
   "execution_count": null,
   "id": "88867676",
   "metadata": {},
   "outputs": [],
   "source": [
    "#The shutil module offers a number of high-level operations on files and collections of files. "
   ]
  },
  {
   "cell_type": "code",
   "execution_count": null,
   "id": "6c25a76b",
   "metadata": {},
   "outputs": [],
   "source": [
    "#os — Miscellaneous operating system interfaces¶"
   ]
  },
  {
   "cell_type": "markdown",
   "id": "37d728bd",
   "metadata": {},
   "source": [
    "#This module provides a portable way of using operating system dependent functionality. \n",
    "\n",
    "#If you just want to read or write a file see open(), if you want to manipulate paths, see the os.path module, \n",
    "\n",
    "#if you want to read all the lines in all the files on the command line see the fileinput module, \n",
    "\n",
    "#For creating temporary files and directories see the tempfile module, \n",
    "\n",
    "#for high-level file and directory handling see the shutil module."
   ]
  }
 ],
 "metadata": {
  "kernelspec": {
   "display_name": "Python 3 (ipykernel)",
   "language": "python",
   "name": "python3"
  },
  "language_info": {
   "codemirror_mode": {
    "name": "ipython",
    "version": 3
   },
   "file_extension": ".py",
   "mimetype": "text/x-python",
   "name": "python",
   "nbconvert_exporter": "python",
   "pygments_lexer": "ipython3",
   "version": "3.9.7"
  }
 },
 "nbformat": 4,
 "nbformat_minor": 5
}
